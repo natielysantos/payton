{
 "cells": [
  {
   "cell_type": "markdown",
   "id": "599427f1",
   "metadata": {},
   "source": [
    "# 🧩 Exercício 4 — Data e Hora"
   ]
  },
  {
   "cell_type": "code",
   "execution_count": null,
   "id": "5c2bcc85",
   "metadata": {},
   "outputs": [],
   "source": [
    "\n",
    "import datetime\n",
    "\n",
    "# Obtém data e hora atuais\n",
    "agora = datetime.datetime.now()\n",
    "\n",
    "# Exibe no formato solicitado\n",
    "print(f\"Data: {agora.day:02d}/{agora.month:02d}/{agora.year}\")\n",
    "print(f\"Hora: {agora.hour:02d}:{agora.minute:02d}\")\n"
   ]
  },
  {
   "cell_type": "markdown",
   "id": "74455d64",
   "metadata": {},
   "source": [
    "# 💬 Exercício 5 — Emojis"
   ]
  },
  {
   "cell_type": "code",
   "execution_count": null,
   "id": "c14a11eb",
   "metadata": {},
   "outputs": [],
   "source": [
    "\n",
    "# Instale o pacote emoji antes de rodar (no Colab ou terminal):\n",
    "# !pip install emoji\n",
    "\n",
    "import emoji\n",
    "\n",
    "# Emojis disponíveis\n",
    "print(\"Emojis disponíveis:\")\n",
    "print(\"❤️ :red_heart:\")\n",
    "print(\"👍 :thumbs_up:\")\n",
    "print(\"🤔 :thinking_face:\")\n",
    "print(\"🥳 :partying_face:\")\n",
    "\n",
    "# Solicita uma frase\n",
    "frase = input(\"Digite uma frase e ela será emojizada:\\n\")\n",
    "\n",
    "# Converte para emoji\n",
    "frase_emojizada = emoji.emojize(frase, language='alias')\n",
    "\n",
    "print(\"Frase emojizada:\")\n",
    "print(frase_emojizada)\n"
   ]
  },
  {
   "cell_type": "markdown",
   "id": "98dc358f",
   "metadata": {},
   "source": [
    "# 👩‍🔬 Exercício 6 — Experimento de Cobaias (BeeCrowd 1094)"
   ]
  },
  {
   "cell_type": "code",
   "execution_count": null,
   "id": "dd5fc2e2",
   "metadata": {},
   "outputs": [],
   "source": [
    "\n",
    "# Entrada de dados\n",
    "N = int(input(\"Digite a quantidade de experimentos: \"))\n",
    "\n",
    "total = 0\n",
    "sapos = 0\n",
    "ratos = 0\n",
    "coelhos = 0\n",
    "\n",
    "for i in range(N):\n",
    "    entrada = input(\"Digite a quantidade e o tipo (ex: '10 C'): \").split()\n",
    "    quantidade = int(entrada[0])\n",
    "    tipo = entrada[1].upper()\n",
    "\n",
    "    total += quantidade\n",
    "\n",
    "    if tipo == 'C':\n",
    "        coelhos += quantidade\n",
    "    elif tipo == 'R':\n",
    "        ratos += quantidade\n",
    "    elif tipo == 'S':\n",
    "        sapos += quantidade\n",
    "\n",
    "# Cálculo dos percentuais\n",
    "perc_c = (coelhos / total) * 100\n",
    "perc_r = (ratos / total) * 100\n",
    "perc_s = (sapos / total) * 100\n",
    "\n",
    "# Saída formatada\n",
    "print(f\"\\nTotal: {total} cobaias\")\n",
    "print(f\"Total de coelhos: {coelhos}\")\n",
    "print(f\"Total de ratos: {ratos}\")\n",
    "print(f\"Total de sapos: {sapos}\")\n",
    "\n",
    "print(f\"Percentual de coelhos: {perc_c:.2f} %\")\n",
    "print(f\"Percentual de ratos: {perc_r:.2f} %\")\n",
    "print(f\"Percentual de sapos: {perc_s:.2f} %\")\n"
   ]
  }
 ],
 "metadata": {
  "language_info": {
   "name": "python"
  }
 },
 "nbformat": 4,
 "nbformat_minor": 5
}
